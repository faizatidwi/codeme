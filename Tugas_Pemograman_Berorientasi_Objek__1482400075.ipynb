{
  "nbformat": 4,
  "nbformat_minor": 0,
  "metadata": {
    "colab": {
      "provenance": [],
      "authorship_tag": "ABX9TyO/B4wRoilhvxxZXxVD7c7Q",
      "include_colab_link": true
    },
    "kernelspec": {
      "name": "python3",
      "display_name": "Python 3"
    },
    "language_info": {
      "name": "python"
    }
  },
  "cells": [
    {
      "cell_type": "markdown",
      "metadata": {
        "id": "view-in-github",
        "colab_type": "text"
      },
      "source": [
        "<a href=\"https://colab.research.google.com/github/faizatidwi/codeme/blob/main/Tugas_Pemograman_Berorientasi_Objek__1482400075.ipynb\" target=\"_parent\"><img src=\"https://colab.research.google.com/assets/colab-badge.svg\" alt=\"Open In Colab\"/></a>"
      ]
    },
    {
      "cell_type": "code",
      "execution_count": 2,
      "metadata": {
        "colab": {
          "base_uri": "https://localhost:8080/"
        },
        "collapsed": true,
        "id": "C1Xgq3rL1bmL",
        "outputId": "3a792481-8ff9-4641-a2b4-cb338799493a"
      },
      "outputs": [
        {
          "output_type": "stream",
          "name": "stdout",
          "text": [
            "TV dinyalakan: ON\n",
            "{'Power': 'ON', 'Mute': 'Unmute', 'Current Channel': 'TVRI', 'Volume': 10}\n",
            "Volume: 11\n",
            "Channel saat ini: RCTI\n",
            "Channel dipilih: SCTV\n",
            "TV: Mute\n",
            "{'Power': 'ON', 'Mute': 'Mute', 'Current Channel': 'SCTV', 'Volume': 'Muted'}\n"
          ]
        }
      ],
      "source": [
        "class RemoteTV:\n",
        "    def __init__(self, channels=[\"TVRI\", \"RCTI\", \"SCTV\", \"Indosiar\", \"TransTV\"], max_volome=100):\n",
        "        self.power = False  # TV mati secara default\n",
        "        self.mute = False   # Mute dalam keadaan tidak aktif\n",
        "        self.channels = [\"TVRI\", \"RCTI\", \"SCTV\", \"Indosiar\", \"TransTV\"]  # Daftar channel\n",
        "        self.current_channel = 0  # Indeks channel saat ini # [\"TVRI\", \"RCTI\", \"SCTV\", \"Indosiar\", \"TransTV\"]\n",
        "        self.volume = 10  # Volume default\n",
        "        self.max_volume = 100  # Maksimum volume\n",
        "\n",
        "    def power_toggle(self):\n",
        "        self.power = not self.power\n",
        "        state = \"ON\" if self.power else \"OFF\"\n",
        "        print(f\"TV dinyalakan: {state}\")\n",
        "\n",
        "    def mute_toggle(self):\n",
        "        if self.power:\n",
        "            self.mute = not self.mute\n",
        "            state = \"Mute\" if self.mute else \"Unmute\"\n",
        "            print(f\"TV: {state}\")\n",
        "        else:\n",
        "            print(\"TV dalam keadaan mati\")\n",
        "\n",
        "    def volume_up(self):\n",
        "        if self.power and not self.mute:\n",
        "            if self.volume < self.max_volume:\n",
        "                self.volume += 1\n",
        "                print(f\"Volume: {self.volume}\")\n",
        "            else:\n",
        "                print(\"Volume sudah maksimal\")\n",
        "        elif self.mute:\n",
        "            print(\"TV dalam keadaan mute\")\n",
        "\n",
        "    def volume_down(self):\n",
        "        if self.power and not self.mute:\n",
        "            if self.volume > 0:\n",
        "                self.volume -= 1\n",
        "                print(f\"Volume: {self.volume}\")\n",
        "            else:\n",
        "                print(\"Volume sudah minimal\")\n",
        "        elif self.mute:\n",
        "            print(\"TV dalam keadaan mute\")\n",
        "\n",
        "    def channel_up(self):\n",
        "        if self.power:\n",
        "            self.current_channel = (self.current_channel + 1) % len(self.channels)\n",
        "            print(f\"Channel saat ini: {self.channels[self.current_channel]}\")\n",
        "        else:\n",
        "            print(\"TV dalam keadaan mati\")\n",
        "\n",
        "    def channel_down(self):\n",
        "        if self.power:\n",
        "            self.current_channel = (self.current_channel - 1) % len(self.channels)\n",
        "            print(f\"Channel saat ini: {self.channels[self.current_channel]}\")\n",
        "        else:\n",
        "            print(\"TV dalam keadaan mati\")\n",
        "\n",
        "    def set_channel(self, channel_name):\n",
        "        if self.power:\n",
        "            if channel_name in self.channels:\n",
        "                self.current_channel = self.channels.index(channel_name)\n",
        "                print(f\"Channel dipilih: {channel_name}\")\n",
        "            else:\n",
        "                print(\"Channel tidak ditemukan\")\n",
        "        else:\n",
        "            print(\"TV dalam keadaan mati\")\n",
        "\n",
        "    def get_status(self):\n",
        "        status = {\n",
        "            \"Power\": \"ON\" if self.power else \"OFF\",\n",
        "            \"Mute\": \"Mute\" if self.mute else \"Unmute\",\n",
        "            \"Current Channel\": self.channels[self.current_channel] if self.power else \"None\",\n",
        "            \"Volume\": self.volume if not self.mute else \"Muted\"\n",
        "        }\n",
        "        print(status)\n",
        "\n",
        "# Pengujian Program\n",
        "tv = RemoteTV()\n",
        "tv.power_toggle()\n",
        "tv.get_status()\n",
        "tv.volume_up()\n",
        "tv.channel_up()\n",
        "tv.set_channel(\"SCTV\")\n",
        "tv.mute_toggle()\n",
        "tv.get_status()\n"
      ]
    }
  ]
}